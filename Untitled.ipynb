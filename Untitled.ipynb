{
 "cells": [
  {
   "cell_type": "code",
   "execution_count": 1,
   "id": "3428ac0f-3f8f-4639-a44b-0f228d4add5e",
   "metadata": {},
   "outputs": [
    {
     "name": "stdout",
     "output_type": "stream",
     "text": [
      "6\n"
     ]
    }
   ],
   "source": [
    "#string length\n",
    "a=\"sofiya\"\n",
    "print(len(a))\n"
   ]
  },
  {
   "cell_type": "code",
   "execution_count": 5,
   "id": "b8618248-b201-4d2d-b021-aa73ab9fd87d",
   "metadata": {},
   "outputs": [
    {
     "name": "stdout",
     "output_type": "stream",
     "text": [
      "True\n"
     ]
    }
   ],
   "source": [
    "#check string\n",
    "a=\"I am sofiya sudhagar\"\n",
    "print(\"am\"in a)"
   ]
  },
  {
   "cell_type": "code",
   "execution_count": 13,
   "id": "735504de-8ba8-46b7-b298-cfb62fbe4490",
   "metadata": {},
   "outputs": [
    {
     "name": "stdout",
     "output_type": "stream",
     "text": [
      "sofiya\n"
     ]
    }
   ],
   "source": [
    "#slicing\n",
    "a=\"sofiya\"\n",
    "print(a[0:])"
   ]
  },
  {
   "cell_type": "code",
   "execution_count": 15,
   "id": "8d0cd231-6b02-457c-94cf-384dd04d6e99",
   "metadata": {},
   "outputs": [
    {
     "name": "stdout",
     "output_type": "stream",
     "text": [
      "SOFIYA\n"
     ]
    }
   ],
   "source": [
    "a=\"sofiya\"\n",
    "print(a.upper())"
   ]
  },
  {
   "cell_type": "code",
   "execution_count": 17,
   "id": "7eb7bbfa-98b0-4da8-9913-f4f183b12d4e",
   "metadata": {},
   "outputs": [
    {
     "name": "stdout",
     "output_type": "stream",
     "text": [
      "sofiya\n"
     ]
    }
   ],
   "source": [
    "a=\"sofiya\"\n",
    "print(a.lower())"
   ]
  },
  {
   "cell_type": "code",
   "execution_count": 25,
   "id": "ae097011-a5c7-4e48-969e-044ae3c647a9",
   "metadata": {},
   "outputs": [
    {
     "name": "stdout",
     "output_type": "stream",
     "text": [
      "\"HELLO WORLD\"\n"
     ]
    }
   ],
   "source": [
    "a='\\\"HELLO WORLD\\\"'\n",
    "print(a[0:])"
   ]
  },
  {
   "cell_type": "code",
   "execution_count": 1,
   "id": "524216b5-51c3-4193-9768-4b27c55e180f",
   "metadata": {},
   "outputs": [
    {
     "name": "stdout",
     "output_type": "stream",
     "text": [
      "['Aravind', 'Arya', 'Santhosh', 'Saranya']\n"
     ]
    }
   ],
   "source": [
    "set1=[\"Aravind\",\"Arya\",\"Santhosh\",\"Saranya\"]\n",
    "print(set1)"
   ]
  },
  {
   "cell_type": "code",
   "execution_count": 7,
   "id": "78d52673-0a75-46e4-81a7-593e97a7926c",
   "metadata": {},
   "outputs": [
    {
     "name": "stdout",
     "output_type": "stream",
     "text": [
      "['Aravind', 'Arya', 'Santhosh', 'Saranya'] {11, 2, 3, 4}\n"
     ]
    }
   ],
   "source": [
    "set1=[\"Aravind\",\"Arya\",\"Santhosh\",\"Saranya\"]\n",
    "set2={11,2,3,4}\n",
    "print(set1,set2)\n"
   ]
  },
  {
   "cell_type": "code",
   "execution_count": 9,
   "id": "ace9c5e5-e440-4615-821e-a32efb1390b8",
   "metadata": {},
   "outputs": [
    {
     "name": "stdout",
     "output_type": "stream",
     "text": [
      "4\n",
      "<class 'set'>\n"
     ]
    }
   ],
   "source": [
    "set1={\"arjun\",\"anush\",\"abinash\",\"akash\"}\n",
    "print(len(set1))\n",
    "print(type(set1))"
   ]
  },
  {
   "cell_type": "code",
   "execution_count": 11,
   "id": "4d79f76d-42ec-4289-9915-d56bf76edaa7",
   "metadata": {},
   "outputs": [
    {
     "name": "stdout",
     "output_type": "stream",
     "text": [
      "{'S', 'y', 'vijay', 'u', 'sk', 'a', 'r', 'ajith'}\n"
     ]
    }
   ],
   "source": [
    "newset={\"vijay\",\"ajith\",\"sk\"}\n",
    "newset.update(\"Surya\")\n",
    "print(newset)"
   ]
  },
  {
   "cell_type": "code",
   "execution_count": null,
   "id": "a2277b5a-4e1b-4590-9190-c2491b3aaa33",
   "metadata": {},
   "outputs": [],
   "source": []
  }
 ],
 "metadata": {
  "kernelspec": {
   "display_name": "Python [conda env:base] *",
   "language": "python",
   "name": "conda-base-py"
  },
  "language_info": {
   "codemirror_mode": {
    "name": "ipython",
    "version": 3
   },
   "file_extension": ".py",
   "mimetype": "text/x-python",
   "name": "python",
   "nbconvert_exporter": "python",
   "pygments_lexer": "ipython3",
   "version": "3.12.7"
  }
 },
 "nbformat": 4,
 "nbformat_minor": 5
}
